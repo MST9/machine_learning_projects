{
 "cells": [
  {
   "cell_type": "code",
   "execution_count": 1,
   "id": "3ea0ce19",
   "metadata": {
    "id": "3ea0ce19"
   },
   "outputs": [],
   "source": [
    "from tensorflow.keras.layers import Bidirectional, Concatenate, Permute, Dot, Input, LSTM, Multiply\n",
    "from tensorflow.keras.layers import RepeatVector, Dense, Activation, Lambda\n",
    "from tensorflow.keras.optimizers import Adam\n",
    "from tensorflow.keras.utils import to_categorical\n",
    "from tensorflow.keras.models import load_model, Model\n",
    "import tensorflow.keras.backend as K\n",
    "import tensorflow as tf\n",
    "import numpy as np\n",
    "\n",
    "from faker import Faker\n",
    "import random\n",
    "from tqdm import tqdm\n",
    "from babel.dates import format_date\n",
    "\n",
    "import matplotlib.pyplot as plt\n",
    "%matplotlib inline"
   ]
  },
  {
   "cell_type": "code",
   "execution_count": 2,
   "id": "1s4wiAz_9nnD",
   "metadata": {
    "colab": {
     "base_uri": "https://localhost:8080/"
    },
    "id": "1s4wiAz_9nnD",
    "outputId": "2f8c1d6f-1a5a-4acd-b4af-391263c8f15c"
   },
   "outputs": [
    {
     "name": "stdout",
     "output_type": "stream",
     "text": [
      "Requirement already satisfied: faker in /Users/mohit/opt/anaconda3/envs/tensorflow-exp3/lib/python3.7/site-packages (8.8.1)\n",
      "Requirement already satisfied: python-dateutil>=2.4 in /Users/mohit/opt/anaconda3/envs/tensorflow-exp3/lib/python3.7/site-packages (from faker) (2.8.2)\n",
      "Requirement already satisfied: text-unidecode==1.3 in /Users/mohit/opt/anaconda3/envs/tensorflow-exp3/lib/python3.7/site-packages (from faker) (1.3)\n",
      "Requirement already satisfied: six>=1.5 in /Users/mohit/opt/anaconda3/envs/tensorflow-exp3/lib/python3.7/site-packages (from python-dateutil>=2.4->faker) (1.16.0)\n",
      "Note: you may need to restart the kernel to use updated packages.\n"
     ]
    }
   ],
   "source": [
    "pip install faker"
   ]
  },
  {
   "cell_type": "code",
   "execution_count": 3,
   "id": "Er8g92M89gn0",
   "metadata": {
    "id": "Er8g92M89gn0"
   },
   "outputs": [],
   "source": [
    "fake = Faker()\n",
    "Faker.seed(12345)\n",
    "random.seed(12345)\n",
    "\n",
    "\n",
    "FORMATS = ['short',\n",
    "           'medium',\n",
    "           'long',\n",
    "           'full',\n",
    "           'full',\n",
    "           'full',\n",
    "           'full',\n",
    "           'full',\n",
    "           'full',\n",
    "           'full',\n",
    "           'full',\n",
    "           'full',\n",
    "           'full',\n",
    "           'd MMM YYY', \n",
    "           'd MMMM YYY',\n",
    "           'dd MMM YYY',\n",
    "           'd MMM, YYY',\n",
    "           'd MMMM, YYY',\n",
    "           'dd, MMM YYY',\n",
    "           'd MM YY',\n",
    "           'd MMMM YYY',\n",
    "           'MMMM d YYY',\n",
    "           'MMMM d, YYY',\n",
    "           'dd.MM.YY']\n",
    "\n",
    "\n",
    "LOCALES = ['en_US']\n",
    "\n",
    "def load_date():\n",
    "   \n",
    "    dt = fake.date_object()\n",
    "\n",
    "    try:\n",
    "        human_readable = format_date(dt, format=random.choice(FORMATS),  locale='en_US') # locale=random.choice(LOCALES))\n",
    "        human_readable = human_readable.lower()\n",
    "        human_readable = human_readable.replace(',','')\n",
    "        machine_readable = dt.isoformat()\n",
    "        \n",
    "    except AttributeError as e:\n",
    "        return None, None, None\n",
    "\n",
    "    return human_readable, machine_readable, dt\n",
    "\n",
    "def load_dataset(m):\n",
    "   \n",
    "    \n",
    "    human_vocab = set()\n",
    "    machine_vocab = set()\n",
    "    dataset = []\n",
    "    Tx = 30\n",
    "    \n",
    "\n",
    "    for i in tqdm(range(m)):\n",
    "        h, m, _ = load_date()\n",
    "        if h is not None:\n",
    "            dataset.append((h, m))\n",
    "            human_vocab.update(tuple(h))\n",
    "            machine_vocab.update(tuple(m))\n",
    "    \n",
    "    human = dict(zip(sorted(human_vocab) + ['<unk>', '<pad>'], \n",
    "                     list(range(len(human_vocab) + 2))))\n",
    "    inv_machine = dict(enumerate(sorted(machine_vocab)))\n",
    "    machine = {v:k for k,v in inv_machine.items()}\n",
    " \n",
    "    return dataset, human, machine, inv_machine\n",
    "\n",
    "def preprocess_data(dataset, human_vocab, machine_vocab, Tx, Ty):\n",
    "    \n",
    "    X, Y = zip(*dataset)\n",
    "    \n",
    "    X = np.array([string_to_int(i, Tx, human_vocab) for i in X])\n",
    "    Y = [string_to_int(t, Ty, machine_vocab) for t in Y]\n",
    "    \n",
    "    Xoh = np.array(list(map(lambda x: to_categorical(x, num_classes=len(human_vocab)), X)))\n",
    "    Yoh = np.array(list(map(lambda x: to_categorical(x, num_classes=len(machine_vocab)), Y)))\n",
    "\n",
    "\n",
    "\n",
    "    return X, np.array(Y), Xoh, Yoh\n",
    "\n",
    "def string_to_int(string, length, vocab):\n",
    "    \n",
    "    \n",
    "    #make lower to standardize\n",
    "    string = string.lower()\n",
    "    string = string.replace(',','')\n",
    "    \n",
    "    if len(string) > length:\n",
    "        string = string[:length]\n",
    "        \n",
    "    rep = list(map(lambda x: vocab.get(x, '<unk>'), string))\n",
    "    \n",
    "    if len(string) < length:\n",
    "        rep += [vocab['<pad>']] * (length - len(string))\n",
    "    \n",
    "    #print (rep)\n",
    "    return rep\n",
    "\n",
    "\n",
    "def int_to_string(ints, inv_vocab):\n",
    "    \n",
    "    \n",
    "    l = [inv_vocab[i] for i in ints]\n",
    "    return l\n",
    "\n",
    "\n",
    "EXAMPLES = ['3 May 1979', '5 Apr 09', '20th February 2016', 'Wed 10 Jul 2007']\n",
    "\n",
    "def run_example(model, input_vocabulary, inv_output_vocabulary, text):\n",
    "    encoded = string_to_int(text, TIME_STEPS, input_vocabulary)\n",
    "    prediction = model.predict(np.array([encoded]))\n",
    "    prediction = np.argmax(prediction[0], axis=-1)\n",
    "    return int_to_string(prediction, inv_output_vocabulary)\n",
    "\n",
    "def run_examples(model, input_vocabulary, inv_output_vocabulary, examples=EXAMPLES):\n",
    "    predicted = []\n",
    "    for example in examples:\n",
    "        predicted.append(''.join(run_example(model, input_vocabulary, inv_output_vocabulary, example)))\n",
    "        print('input:', example)\n",
    "        print('output:', predicted[-1])\n",
    "    return predicted\n",
    "\n",
    "\n",
    "def softmax(x, axis=1):\n",
    "   \n",
    "    ndim = K.ndim(x)\n",
    "    if ndim == 2:\n",
    "        return K.softmax(x)\n",
    "    elif ndim > 2:\n",
    "        e = K.exp(x - K.max(x, axis=axis, keepdims=True))\n",
    "        s = K.sum(e, axis=axis, keepdims=True)\n",
    "        return e / s\n",
    "    else:\n",
    "        raise ValueError('Cannot apply softmax to a tensor that is 1D')\n",
    "        \n"
   ]
  },
  {
   "cell_type": "code",
   "execution_count": 4,
   "id": "4b475725",
   "metadata": {
    "colab": {
     "base_uri": "https://localhost:8080/"
    },
    "id": "4b475725",
    "outputId": "2716d69b-7fd8-4008-944a-e13336ef9fb7"
   },
   "outputs": [
    {
     "name": "stderr",
     "output_type": "stream",
     "text": [
      "100%|██████████████████████████████████| 10000/10000 [00:00<00:00, 34281.89it/s]\n"
     ]
    }
   ],
   "source": [
    "m=10000\n",
    "dataset, human_vocab, machine_vocab, inv_machine_vocab = load_dataset(m)"
   ]
  },
  {
   "cell_type": "code",
   "execution_count": 5,
   "id": "1dacf79b",
   "metadata": {
    "colab": {
     "base_uri": "https://localhost:8080/"
    },
    "id": "1dacf79b",
    "outputId": "f329a9f7-7dd3-451e-c1cd-30c00729a1ae"
   },
   "outputs": [
    {
     "data": {
      "text/plain": [
       "[('9 may 1998', '1998-05-09'),\n",
       " ('10.11.19', '2019-11-10'),\n",
       " ('9/10/70', '1970-09-10'),\n",
       " ('saturday april 28 1990', '1990-04-28'),\n",
       " ('thursday january 26 1995', '1995-01-26'),\n",
       " ('monday march 7 1983', '1983-03-07'),\n",
       " ('sunday may 22 1988', '1988-05-22'),\n",
       " ('08 jul 2008', '2008-07-08'),\n",
       " ('8 sep 1999', '1999-09-08'),\n",
       " ('thursday january 1 1981', '1981-01-01')]"
      ]
     },
     "execution_count": 5,
     "metadata": {},
     "output_type": "execute_result"
    }
   ],
   "source": [
    "dataset[:10]"
   ]
  },
  {
   "cell_type": "code",
   "execution_count": 6,
   "id": "fe5d30cb",
   "metadata": {
    "colab": {
     "base_uri": "https://localhost:8080/"
    },
    "id": "fe5d30cb",
    "outputId": "0bec0571-0d02-4616-96e9-6a039c5364f4"
   },
   "outputs": [
    {
     "data": {
      "text/plain": [
       "{' ': 0,\n",
       " '.': 1,\n",
       " '/': 2,\n",
       " '0': 3,\n",
       " '1': 4,\n",
       " '2': 5,\n",
       " '3': 6,\n",
       " '4': 7,\n",
       " '5': 8,\n",
       " '6': 9,\n",
       " '7': 10,\n",
       " '8': 11,\n",
       " '9': 12,\n",
       " 'a': 13,\n",
       " 'b': 14,\n",
       " 'c': 15,\n",
       " 'd': 16,\n",
       " 'e': 17,\n",
       " 'f': 18,\n",
       " 'g': 19,\n",
       " 'h': 20,\n",
       " 'i': 21,\n",
       " 'j': 22,\n",
       " 'l': 23,\n",
       " 'm': 24,\n",
       " 'n': 25,\n",
       " 'o': 26,\n",
       " 'p': 27,\n",
       " 'r': 28,\n",
       " 's': 29,\n",
       " 't': 30,\n",
       " 'u': 31,\n",
       " 'v': 32,\n",
       " 'w': 33,\n",
       " 'y': 34,\n",
       " '<unk>': 35,\n",
       " '<pad>': 36}"
      ]
     },
     "execution_count": 6,
     "metadata": {},
     "output_type": "execute_result"
    }
   ],
   "source": [
    "human_vocab"
   ]
  },
  {
   "cell_type": "code",
   "execution_count": 9,
   "id": "d6a098fc",
   "metadata": {
    "colab": {
     "base_uri": "https://localhost:8080/"
    },
    "id": "d6a098fc",
    "outputId": "509f6d2e-9f1d-40a7-8d9b-d858999d13a2"
   },
   "outputs": [
    {
     "data": {
      "text/plain": [
       "{'-': 0,\n",
       " '0': 1,\n",
       " '1': 2,\n",
       " '2': 3,\n",
       " '3': 4,\n",
       " '4': 5,\n",
       " '5': 6,\n",
       " '6': 7,\n",
       " '7': 8,\n",
       " '8': 9,\n",
       " '9': 10}"
      ]
     },
     "execution_count": 9,
     "metadata": {},
     "output_type": "execute_result"
    }
   ],
   "source": [
    "machine_vocab"
   ]
  },
  {
   "cell_type": "code",
   "execution_count": 10,
   "id": "c12bef4e",
   "metadata": {
    "colab": {
     "base_uri": "https://localhost:8080/"
    },
    "id": "c12bef4e",
    "outputId": "a4f85770-3d56-438e-efc1-8dfbe33473e8"
   },
   "outputs": [
    {
     "name": "stdout",
     "output_type": "stream",
     "text": [
      "X shape (10000, 30)\n",
      "Y shape (10000, 10)\n",
      "Xoh shape (10000, 30, 37)\n",
      "Yoh shape (10000, 10, 11)\n"
     ]
    }
   ],
   "source": [
    "Tx=30\n",
    "Ty=10\n",
    "X, Y, Xoh, Yoh = preprocess_data(dataset, human_vocab, machine_vocab, Tx, Ty)\n",
    "\n",
    "print('X shape', X.shape)\n",
    "print('Y shape', Y.shape)\n",
    "print('Xoh shape', Xoh.shape)\n",
    "print('Yoh shape', Yoh.shape)"
   ]
  },
  {
   "cell_type": "code",
   "execution_count": 11,
   "id": "33875445",
   "metadata": {
    "colab": {
     "base_uri": "https://localhost:8080/"
    },
    "id": "33875445",
    "outputId": "36474af0-88bf-4312-8671-4619a6899434"
   },
   "outputs": [
    {
     "name": "stdout",
     "output_type": "stream",
     "text": [
      "Source date: 9 may 1998\n",
      "Target date: 1998-05-09\n",
      "\n",
      "Source after preprocessing [12  0 24 13 34  0  4 12 12 11 36 36 36 36 36 36 36 36 36 36 36 36 36 36\n",
      " 36 36 36 36 36 36]\n",
      "Target after preprocessing [ 2 10 10  9  0  1  6  0  1 10]\n",
      "\n",
      "Source after preprocessing one-hot [[0. 0. 0. ... 0. 0. 0.]\n",
      " [1. 0. 0. ... 0. 0. 0.]\n",
      " [0. 0. 0. ... 0. 0. 0.]\n",
      " ...\n",
      " [0. 0. 0. ... 0. 0. 1.]\n",
      " [0. 0. 0. ... 0. 0. 1.]\n",
      " [0. 0. 0. ... 0. 0. 1.]]\n",
      "Target after preprocessing one-hot [[0. 0. 1. 0. 0. 0. 0. 0. 0. 0. 0.]\n",
      " [0. 0. 0. 0. 0. 0. 0. 0. 0. 0. 1.]\n",
      " [0. 0. 0. 0. 0. 0. 0. 0. 0. 0. 1.]\n",
      " [0. 0. 0. 0. 0. 0. 0. 0. 0. 1. 0.]\n",
      " [1. 0. 0. 0. 0. 0. 0. 0. 0. 0. 0.]\n",
      " [0. 1. 0. 0. 0. 0. 0. 0. 0. 0. 0.]\n",
      " [0. 0. 0. 0. 0. 0. 1. 0. 0. 0. 0.]\n",
      " [1. 0. 0. 0. 0. 0. 0. 0. 0. 0. 0.]\n",
      " [0. 1. 0. 0. 0. 0. 0. 0. 0. 0. 0.]\n",
      " [0. 0. 0. 0. 0. 0. 0. 0. 0. 0. 1.]]\n"
     ]
    }
   ],
   "source": [
    "index=0\n",
    "print('Source date:', dataset[index][0])\n",
    "print('Target date:', dataset[index][1])\n",
    "\n",
    "print()\n",
    "print('Source after preprocessing', X[index])\n",
    "print('Target after preprocessing', Y[index])\n",
    "\n",
    "print()\n",
    "print('Source after preprocessing one-hot', Xoh[index])\n",
    "print('Target after preprocessing one-hot', Yoh[index])"
   ]
  },
  {
   "cell_type": "code",
   "execution_count": 12,
   "id": "12d6a059",
   "metadata": {
    "id": "12d6a059"
   },
   "outputs": [],
   "source": [
    "repeator=RepeatVector(Tx)\n",
    "concatenator=Concatenate(axis=-1)\n",
    "densor1=Dense(10,activation='tanh')\n",
    "densor2=Dense(1, activation='relu')\n",
    "activator=Activation(softmax,name='attention_weights')\n",
    "dotor=Dot(axes=1)"
   ]
  },
  {
   "cell_type": "code",
   "execution_count": 13,
   "id": "a6f09cea",
   "metadata": {
    "id": "a6f09cea"
   },
   "outputs": [],
   "source": [
    "def one_step_attention(a, s_prev):\n",
    "    \n",
    "    s_prev=repeator(s_prev)\n",
    "    concat=concatenator([a,s_prev])\n",
    "    e=densor1(concat)\n",
    "    energies=densor2(e)\n",
    "    alphas=activator(energies)\n",
    "    context=dotor([alphas,a])\n",
    "    \n",
    "    return context"
   ]
  },
  {
   "cell_type": "code",
   "execution_count": 14,
   "id": "25375ba4",
   "metadata": {
    "id": "25375ba4"
   },
   "outputs": [],
   "source": [
    "n_a=32\n",
    "n_s=64\n",
    "\n",
    "post_activation_LSTM_cell = LSTM(n_s, return_state=True)\n",
    "output_layer = Dense(len(machine_vocab), activation=softmax)"
   ]
  },
  {
   "cell_type": "code",
   "execution_count": 15,
   "id": "c57d03c2",
   "metadata": {
    "id": "c57d03c2"
   },
   "outputs": [],
   "source": [
    "def modelf(Tx, Ty, n_a, n_s, human_vocab_size, machine_vocab_size):\n",
    "    X=Input(shape=(Tx, human_vocab_size))\n",
    "    s0=Input(shape=(n_s,), name='s0')\n",
    "    c0=Input(shape=(n_s,), name='c0')\n",
    "    s=s0\n",
    "    c=c0\n",
    "    \n",
    "    outputs=[]\n",
    "    \n",
    "    a=Bidirectional(LSTM(n_a,return_sequences=True))(X)\n",
    "    \n",
    "    for t in range(Ty):\n",
    "        context=one_step_attention(a,s)\n",
    "        \n",
    "        s,_,c=post_activation_LSTM_cell(context,initial_state=[s,c])\n",
    "        out=output_layer(s)\n",
    "        outputs.append(out)\n",
    "        \n",
    "    model = Model(inputs=[X,s0,c0],outputs=outputs)\n",
    "    \n",
    "    return model"
   ]
  },
  {
   "cell_type": "code",
   "execution_count": 16,
   "id": "d1e45225",
   "metadata": {
    "id": "d1e45225"
   },
   "outputs": [],
   "source": [
    "model=modelf(Tx, Ty, n_a, n_s, len(human_vocab), len(machine_vocab))"
   ]
  },
  {
   "cell_type": "code",
   "execution_count": 17,
   "id": "6a7bc53d",
   "metadata": {
    "colab": {
     "base_uri": "https://localhost:8080/"
    },
    "id": "6a7bc53d",
    "outputId": "9979e6db-7a54-4d4a-d435-892a285b30a6"
   },
   "outputs": [
    {
     "name": "stdout",
     "output_type": "stream",
     "text": [
      "Model: \"model\"\n",
      "__________________________________________________________________________________________________\n",
      " Layer (type)                   Output Shape         Param #     Connected to                     \n",
      "==================================================================================================\n",
      " input_1 (InputLayer)           [(None, 30, 37)]     0           []                               \n",
      "                                                                                                  \n",
      " s0 (InputLayer)                [(None, 64)]         0           []                               \n",
      "                                                                                                  \n",
      " bidirectional (Bidirectional)  (None, 30, 64)       17920       ['input_1[0][0]']                \n",
      "                                                                                                  \n",
      " repeat_vector (RepeatVector)   (None, 30, 64)       0           ['s0[0][0]',                     \n",
      "                                                                  'lstm[0][0]',                   \n",
      "                                                                  'lstm[1][0]',                   \n",
      "                                                                  'lstm[2][0]',                   \n",
      "                                                                  'lstm[3][0]',                   \n",
      "                                                                  'lstm[4][0]',                   \n",
      "                                                                  'lstm[5][0]',                   \n",
      "                                                                  'lstm[6][0]',                   \n",
      "                                                                  'lstm[7][0]',                   \n",
      "                                                                  'lstm[8][0]']                   \n",
      "                                                                                                  \n",
      " concatenate (Concatenate)      (None, 30, 128)      0           ['bidirectional[0][0]',          \n",
      "                                                                  'repeat_vector[0][0]',          \n",
      "                                                                  'bidirectional[0][0]',          \n",
      "                                                                  'repeat_vector[1][0]',          \n",
      "                                                                  'bidirectional[0][0]',          \n",
      "                                                                  'repeat_vector[2][0]',          \n",
      "                                                                  'bidirectional[0][0]',          \n",
      "                                                                  'repeat_vector[3][0]',          \n",
      "                                                                  'bidirectional[0][0]',          \n",
      "                                                                  'repeat_vector[4][0]',          \n",
      "                                                                  'bidirectional[0][0]',          \n",
      "                                                                  'repeat_vector[5][0]',          \n",
      "                                                                  'bidirectional[0][0]',          \n",
      "                                                                  'repeat_vector[6][0]',          \n",
      "                                                                  'bidirectional[0][0]',          \n",
      "                                                                  'repeat_vector[7][0]',          \n",
      "                                                                  'bidirectional[0][0]',          \n",
      "                                                                  'repeat_vector[8][0]',          \n",
      "                                                                  'bidirectional[0][0]',          \n",
      "                                                                  'repeat_vector[9][0]']          \n",
      "                                                                                                  \n",
      " dense (Dense)                  (None, 30, 10)       1290        ['concatenate[0][0]',            \n",
      "                                                                  'concatenate[1][0]',            \n",
      "                                                                  'concatenate[2][0]',            \n",
      "                                                                  'concatenate[3][0]',            \n",
      "                                                                  'concatenate[4][0]',            \n",
      "                                                                  'concatenate[5][0]',            \n",
      "                                                                  'concatenate[6][0]',            \n",
      "                                                                  'concatenate[7][0]',            \n",
      "                                                                  'concatenate[8][0]',            \n",
      "                                                                  'concatenate[9][0]']            \n",
      "                                                                                                  \n",
      " dense_1 (Dense)                (None, 30, 1)        11          ['dense[0][0]',                  \n",
      "                                                                  'dense[1][0]',                  \n",
      "                                                                  'dense[2][0]',                  \n",
      "                                                                  'dense[3][0]',                  \n",
      "                                                                  'dense[4][0]',                  \n",
      "                                                                  'dense[5][0]',                  \n",
      "                                                                  'dense[6][0]',                  \n",
      "                                                                  'dense[7][0]',                  \n",
      "                                                                  'dense[8][0]',                  \n",
      "                                                                  'dense[9][0]']                  \n",
      "                                                                                                  \n",
      " attention_weights (Activation)  (None, 30, 1)       0           ['dense_1[0][0]',                \n",
      "                                                                  'dense_1[1][0]',                \n",
      "                                                                  'dense_1[2][0]',                \n",
      "                                                                  'dense_1[3][0]',                \n",
      "                                                                  'dense_1[4][0]',                \n",
      "                                                                  'dense_1[5][0]',                \n",
      "                                                                  'dense_1[6][0]',                \n",
      "                                                                  'dense_1[7][0]',                \n",
      "                                                                  'dense_1[8][0]',                \n",
      "                                                                  'dense_1[9][0]']                \n",
      "                                                                                                  \n",
      " dot (Dot)                      (None, 1, 64)        0           ['attention_weights[0][0]',      \n",
      "                                                                  'bidirectional[0][0]',          \n",
      "                                                                  'attention_weights[1][0]',      \n",
      "                                                                  'bidirectional[0][0]',          \n",
      "                                                                  'attention_weights[2][0]',      \n",
      "                                                                  'bidirectional[0][0]',          \n",
      "                                                                  'attention_weights[3][0]',      \n",
      "                                                                  'bidirectional[0][0]',          \n",
      "                                                                  'attention_weights[4][0]',      \n",
      "                                                                  'bidirectional[0][0]',          \n",
      "                                                                  'attention_weights[5][0]',      \n",
      "                                                                  'bidirectional[0][0]',          \n",
      "                                                                  'attention_weights[6][0]',      \n",
      "                                                                  'bidirectional[0][0]',          \n",
      "                                                                  'attention_weights[7][0]',      \n",
      "                                                                  'bidirectional[0][0]',          \n",
      "                                                                  'attention_weights[8][0]',      \n",
      "                                                                  'bidirectional[0][0]',          \n",
      "                                                                  'attention_weights[9][0]',      \n",
      "                                                                  'bidirectional[0][0]']          \n",
      "                                                                                                  \n",
      " c0 (InputLayer)                [(None, 64)]         0           []                               \n",
      "                                                                                                  \n",
      " lstm (LSTM)                    [(None, 64),         33024       ['dot[0][0]',                    \n",
      "                                 (None, 64),                      's0[0][0]',                     \n",
      "                                 (None, 64)]                      'c0[0][0]',                     \n",
      "                                                                  'dot[1][0]',                    \n",
      "                                                                  'lstm[0][0]',                   \n",
      "                                                                  'lstm[0][2]',                   \n",
      "                                                                  'dot[2][0]',                    \n",
      "                                                                  'lstm[1][0]',                   \n",
      "                                                                  'lstm[1][2]',                   \n",
      "                                                                  'dot[3][0]',                    \n",
      "                                                                  'lstm[2][0]',                   \n",
      "                                                                  'lstm[2][2]',                   \n",
      "                                                                  'dot[4][0]',                    \n",
      "                                                                  'lstm[3][0]',                   \n",
      "                                                                  'lstm[3][2]',                   \n",
      "                                                                  'dot[5][0]',                    \n",
      "                                                                  'lstm[4][0]',                   \n",
      "                                                                  'lstm[4][2]',                   \n",
      "                                                                  'dot[6][0]',                    \n",
      "                                                                  'lstm[5][0]',                   \n",
      "                                                                  'lstm[5][2]',                   \n",
      "                                                                  'dot[7][0]',                    \n",
      "                                                                  'lstm[6][0]',                   \n",
      "                                                                  'lstm[6][2]',                   \n",
      "                                                                  'dot[8][0]',                    \n",
      "                                                                  'lstm[7][0]',                   \n",
      "                                                                  'lstm[7][2]',                   \n",
      "                                                                  'dot[9][0]',                    \n",
      "                                                                  'lstm[8][0]',                   \n",
      "                                                                  'lstm[8][2]']                   \n",
      "                                                                                                  \n",
      " dense_2 (Dense)                (None, 11)           715         ['lstm[0][0]',                   \n",
      "                                                                  'lstm[1][0]',                   \n",
      "                                                                  'lstm[2][0]',                   \n",
      "                                                                  'lstm[3][0]',                   \n",
      "                                                                  'lstm[4][0]',                   \n",
      "                                                                  'lstm[5][0]',                   \n",
      "                                                                  'lstm[6][0]',                   \n",
      "                                                                  'lstm[7][0]',                   \n",
      "                                                                  'lstm[8][0]',                   \n",
      "                                                                  'lstm[9][0]']                   \n",
      "                                                                                                  \n",
      "==================================================================================================\n",
      "Total params: 52,960\n",
      "Trainable params: 52,960\n",
      "Non-trainable params: 0\n",
      "__________________________________________________________________________________________________\n"
     ]
    }
   ],
   "source": [
    "model.summary()"
   ]
  },
  {
   "cell_type": "code",
   "execution_count": 18,
   "id": "HfpVGbun_u2H",
   "metadata": {
    "id": "HfpVGbun_u2H"
   },
   "outputs": [],
   "source": [
    "opt = Adam(learning_rate=0.005, beta_1=0.9, beta_2=0.999,decay=0.01)\n",
    "model.compile(optimizer=opt, loss='categorical_crossentropy', metrics=['accuracy'])"
   ]
  },
  {
   "cell_type": "code",
   "execution_count": 19,
   "id": "LeWpoo_hAhy1",
   "metadata": {
    "id": "LeWpoo_hAhy1"
   },
   "outputs": [],
   "source": [
    "s0=np.zeros((m,n_s))\n",
    "c0=np.zeros((m,n_s))\n",
    "outputs=list(Yoh.swapaxes(0,1))"
   ]
  },
  {
   "cell_type": "code",
   "execution_count": 21,
   "id": "LB0pDNP5CCRz",
   "metadata": {
    "colab": {
     "base_uri": "https://localhost:8080/"
    },
    "id": "LB0pDNP5CCRz",
    "outputId": "f98a6c5e-23d6-48ac-dd2a-f6b885142a6a"
   },
   "outputs": [
    {
     "name": "stdout",
     "output_type": "stream",
     "text": [
      "Epoch 1/5\n",
      "100/100 [==============================] - 18s 35ms/step - loss: 16.5961 - dense_2_loss: 1.3206 - dense_2_1_loss: 1.0468 - dense_2_2_loss: 1.8042 - dense_2_3_loss: 2.6238 - dense_2_4_loss: 0.7149 - dense_2_5_loss: 1.2835 - dense_2_6_loss: 2.6347 - dense_2_7_loss: 0.9250 - dense_2_8_loss: 1.7255 - dense_2_9_loss: 2.5171 - dense_2_accuracy: 0.3926 - dense_2_1_accuracy: 0.6724 - dense_2_2_accuracy: 0.2881 - dense_2_3_accuracy: 0.1169 - dense_2_4_accuracy: 0.9822 - dense_2_5_accuracy: 0.3258 - dense_2_6_accuracy: 0.0804 - dense_2_7_accuracy: 0.9507 - dense_2_8_accuracy: 0.2547 - dense_2_9_accuracy: 0.1154\n",
      "Epoch 2/5\n",
      "100/100 [==============================] - 3s 33ms/step - loss: 9.2548 - dense_2_loss: 0.3153 - dense_2_1_loss: 0.1727 - dense_2_2_loss: 1.1209 - dense_2_3_loss: 2.1619 - dense_2_4_loss: 0.0150 - dense_2_5_loss: 0.3805 - dense_2_6_loss: 1.8174 - dense_2_7_loss: 0.0182 - dense_2_8_loss: 1.1999 - dense_2_9_loss: 2.0531 - dense_2_accuracy: 0.9451 - dense_2_1_accuracy: 0.9570 - dense_2_2_accuracy: 0.5110 - dense_2_3_accuracy: 0.2094 - dense_2_4_accuracy: 1.0000 - dense_2_5_accuracy: 0.8499 - dense_2_6_accuracy: 0.3338 - dense_2_7_accuracy: 1.0000 - dense_2_8_accuracy: 0.4322 - dense_2_9_accuracy: 0.2317\n",
      "Epoch 3/5\n",
      "100/100 [==============================] - 3s 33ms/step - loss: 8.1222 - dense_2_loss: 0.1540 - dense_2_1_loss: 0.1040 - dense_2_2_loss: 1.0051 - dense_2_3_loss: 2.0163 - dense_2_4_loss: 0.0106 - dense_2_5_loss: 0.2252 - dense_2_6_loss: 1.5076 - dense_2_7_loss: 0.0133 - dense_2_8_loss: 1.1640 - dense_2_9_loss: 1.9221 - dense_2_accuracy: 0.9704 - dense_2_1_accuracy: 0.9718 - dense_2_2_accuracy: 0.5539 - dense_2_3_accuracy: 0.2538 - dense_2_4_accuracy: 1.0000 - dense_2_5_accuracy: 0.9349 - dense_2_6_accuracy: 0.4723 - dense_2_7_accuracy: 0.9998 - dense_2_8_accuracy: 0.4447 - dense_2_9_accuracy: 0.2765\n",
      "Epoch 4/5\n",
      "100/100 [==============================] - 4s 35ms/step - loss: 7.3156 - dense_2_loss: 0.1223 - dense_2_1_loss: 0.0889 - dense_2_2_loss: 0.9141 - dense_2_3_loss: 1.8170 - dense_2_4_loss: 0.0079 - dense_2_5_loss: 0.1540 - dense_2_6_loss: 1.2905 - dense_2_7_loss: 0.0103 - dense_2_8_loss: 1.1070 - dense_2_9_loss: 1.8037 - dense_2_accuracy: 0.9712 - dense_2_1_accuracy: 0.9730 - dense_2_2_accuracy: 0.6127 - dense_2_3_accuracy: 0.3512 - dense_2_4_accuracy: 1.0000 - dense_2_5_accuracy: 0.9592 - dense_2_6_accuracy: 0.5586 - dense_2_7_accuracy: 0.9998 - dense_2_8_accuracy: 0.4948 - dense_2_9_accuracy: 0.3158\n",
      "Epoch 5/5\n",
      "100/100 [==============================] - 3s 33ms/step - loss: 6.7073 - dense_2_loss: 0.1036 - dense_2_1_loss: 0.0780 - dense_2_2_loss: 0.8270 - dense_2_3_loss: 1.6123 - dense_2_4_loss: 0.0070 - dense_2_5_loss: 0.1275 - dense_2_6_loss: 1.1709 - dense_2_7_loss: 0.0086 - dense_2_8_loss: 1.0489 - dense_2_9_loss: 1.7235 - dense_2_accuracy: 0.9748 - dense_2_1_accuracy: 0.9765 - dense_2_2_accuracy: 0.6645 - dense_2_3_accuracy: 0.4344 - dense_2_4_accuracy: 1.0000 - dense_2_5_accuracy: 0.9670 - dense_2_6_accuracy: 0.6081 - dense_2_7_accuracy: 0.9999 - dense_2_8_accuracy: 0.5322 - dense_2_9_accuracy: 0.3437\n"
     ]
    },
    {
     "data": {
      "text/plain": [
       "<keras.callbacks.History at 0x7f695d3cdf90>"
      ]
     },
     "execution_count": 21,
     "metadata": {},
     "output_type": "execute_result"
    }
   ],
   "source": [
    "model.fit([Xoh,s0,c0], outputs, epochs=5, batch_size=100)"
   ]
  },
  {
   "cell_type": "code",
   "execution_count": 22,
   "id": "rPxJJ2pGC0hY",
   "metadata": {
    "colab": {
     "base_uri": "https://localhost:8080/"
    },
    "id": "rPxJJ2pGC0hY",
    "outputId": "94eb5da8-4872-46bb-872a-7f6520de4206"
   },
   "outputs": [
    {
     "name": "stdout",
     "output_type": "stream",
     "text": [
      "source  3 May 1979\n",
      "target  1999-05-03\n",
      "source  5 April 09\n",
      "target  2070-04-04\n",
      "source  21th of August 2016\n",
      "target  2008-09-10\n",
      "source  Tue 10 Jul 2007\n",
      "target  2007-07-07\n",
      "source  Saturday May 9 2018\n",
      "target  2011-08-19\n",
      "source  March 3 2001\n",
      "target  2011-03-13\n",
      "source  March 3rd 2001\n",
      "target  2011-03-13\n",
      "source  1 March 2001\n",
      "target  2000-03-13\n"
     ]
    }
   ],
   "source": [
    "EXAMPLES = ['3 May 1979', '5 April 09', '21th of August 2016', 'Tue 10 Jul 2007', 'Saturday May 9 2018', 'March 3 2001', 'March 3rd 2001', '1 March 2001']\n",
    "s00=np.zeros((1,n_s))\n",
    "c00=np.zeros((1, n_s))\n",
    "\n",
    "for example in EXAMPLES:\n",
    "  source=string_to_int(example, Tx, human_vocab)\n",
    "  source = np.array(list(map(lambda x: to_categorical(x, num_classes=len(human_vocab)), source))).swapaxes(0,1)\n",
    "  source=np.swapaxes(source,0,1)\n",
    "  source=np.expand_dims(source,axis=0)\n",
    "  prediction=model.predict([source,s00,c00])\n",
    "  prediction=np.argmax(prediction, axis=-1)\n",
    "  output=[inv_machine_vocab[int(i)] for i in prediction]\n",
    "  print(\"source \",example)\n",
    "  print('target ',''.join(output))\n",
    "\n"
   ]
  },
  {
   "cell_type": "code",
   "execution_count": null,
   "id": "JwyCTgrYEsjZ",
   "metadata": {
    "id": "JwyCTgrYEsjZ"
   },
   "outputs": [],
   "source": []
  }
 ],
 "metadata": {
  "accelerator": "GPU",
  "colab": {
   "collapsed_sections": [],
   "name": "attention.ipynb",
   "provenance": []
  },
  "kernelspec": {
   "display_name": "Python 3 (ipykernel)",
   "language": "python",
   "name": "python3"
  },
  "language_info": {
   "codemirror_mode": {
    "name": "ipython",
    "version": 3
   },
   "file_extension": ".py",
   "mimetype": "text/x-python",
   "name": "python",
   "nbconvert_exporter": "python",
   "pygments_lexer": "ipython3",
   "version": "3.7.11"
  }
 },
 "nbformat": 4,
 "nbformat_minor": 5
}

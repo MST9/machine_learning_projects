{
  "cells": [
    {
      "cell_type": "code",
      "source": [
        "pip install faker"
      ],
      "metadata": {
        "colab": {
          "base_uri": "https://localhost:8080/"
        },
        "id": "_pqbRHOzNZNA",
        "outputId": "8ee90fdd-4c43-460b-acd4-b47c2d351c8d"
      },
      "id": "_pqbRHOzNZNA",
      "execution_count": 1,
      "outputs": [
        {
          "output_type": "stream",
          "name": "stdout",
          "text": [
            "Looking in indexes: https://pypi.org/simple, https://us-python.pkg.dev/colab-wheels/public/simple/\n",
            "Collecting faker\n",
            "  Downloading Faker-13.12.0-py3-none-any.whl (1.6 MB)\n",
            "\u001b[K     |████████████████████████████████| 1.6 MB 4.6 MB/s \n",
            "\u001b[?25hRequirement already satisfied: typing-extensions>=3.10.0.2 in /usr/local/lib/python3.7/dist-packages (from faker) (4.2.0)\n",
            "Requirement already satisfied: python-dateutil>=2.4 in /usr/local/lib/python3.7/dist-packages (from faker) (2.8.2)\n",
            "Requirement already satisfied: six>=1.5 in /usr/local/lib/python3.7/dist-packages (from python-dateutil>=2.4->faker) (1.15.0)\n",
            "Installing collected packages: faker\n",
            "Successfully installed faker-13.12.0\n"
          ]
        }
      ]
    },
    {
      "cell_type": "code",
      "source": [
        "from google.colab import drive\n",
        "drive.mount('/content/gdrive/')"
      ],
      "metadata": {
        "colab": {
          "base_uri": "https://localhost:8080/"
        },
        "id": "PSAdBjdbOB3C",
        "outputId": "ad106319-4f68-4678-f0ca-b35c7477c05c"
      },
      "id": "PSAdBjdbOB3C",
      "execution_count": 2,
      "outputs": [
        {
          "output_type": "stream",
          "name": "stdout",
          "text": [
            "Mounted at /content/gdrive/\n"
          ]
        }
      ]
    },
    {
      "cell_type": "code",
      "source": [
        "from google.colab import files"
      ],
      "metadata": {
        "id": "Ea9MkD9sUpI_"
      },
      "id": "Ea9MkD9sUpI_",
      "execution_count": 8,
      "outputs": []
    },
    {
      "cell_type": "code",
      "source": [
        "!cp '/content/gdrive/MyDrive/Colab Notebooks/nmt_utils.py' ."
      ],
      "metadata": {
        "id": "ip4C1NFnPweq"
      },
      "id": "ip4C1NFnPweq",
      "execution_count": 13,
      "outputs": []
    },
    {
      "cell_type": "code",
      "execution_count": 14,
      "id": "3ea0ce19",
      "metadata": {
        "id": "3ea0ce19"
      },
      "outputs": [],
      "source": [
        "from tensorflow.keras.layers import Bidirectional, Concatenate, Permute, Dot, Input, LSTM, Multiply\n",
        "from tensorflow.keras.layers import RepeatVector, Dense, Activation, Lambda\n",
        "from tensorflow.keras.optimizers import Adam\n",
        "from tensorflow.keras.utils import to_categorical\n",
        "from tensorflow.keras.models import load_model, Model\n",
        "import tensorflow.keras.backend as K\n",
        "import tensorflow as tf\n",
        "import numpy as np\n",
        "\n",
        "from faker import Faker\n",
        "import random\n",
        "from tqdm import tqdm\n",
        "from babel.dates import format_date\n",
        "from nmt_utils import *\n",
        "import matplotlib.pyplot as plt\n",
        "%matplotlib inline"
      ]
    },
    {
      "cell_type": "code",
      "execution_count": 16,
      "id": "4b475725",
      "metadata": {
        "colab": {
          "base_uri": "https://localhost:8080/"
        },
        "id": "4b475725",
        "outputId": "1b1e7201-b083-4b91-edf7-4b9d6ab76c19"
      },
      "outputs": [
        {
          "output_type": "stream",
          "name": "stderr",
          "text": [
            "100%|██████████| 10000/10000 [00:00<00:00, 21542.43it/s]\n"
          ]
        }
      ],
      "source": [
        "m=10000\n",
        "dataset, human_vocab, machine_vocab, inv_machine_vocab = load_dataset(m)"
      ]
    },
    {
      "cell_type": "code",
      "execution_count": 17,
      "id": "1dacf79b",
      "metadata": {
        "colab": {
          "base_uri": "https://localhost:8080/"
        },
        "id": "1dacf79b",
        "outputId": "eee7702d-179c-4c40-c9b1-5c326326f1da"
      },
      "outputs": [
        {
          "output_type": "execute_result",
          "data": {
            "text/plain": [
              "[('9 may 1998', '1998-05-09'),\n",
              " ('10.11.19', '2019-11-10'),\n",
              " ('9/10/70', '1970-09-10'),\n",
              " ('saturday april 28 1990', '1990-04-28'),\n",
              " ('thursday january 26 1995', '1995-01-26'),\n",
              " ('monday march 7 1983', '1983-03-07'),\n",
              " ('sunday may 22 1988', '1988-05-22'),\n",
              " ('08 jul 2008', '2008-07-08'),\n",
              " ('8 sep 1999', '1999-09-08'),\n",
              " ('thursday january 1 1981', '1981-01-01')]"
            ]
          },
          "metadata": {},
          "execution_count": 17
        }
      ],
      "source": [
        "dataset[:10]"
      ]
    },
    {
      "cell_type": "code",
      "execution_count": 18,
      "id": "fe5d30cb",
      "metadata": {
        "colab": {
          "base_uri": "https://localhost:8080/"
        },
        "id": "fe5d30cb",
        "outputId": "656c35c6-0a44-4542-978b-d546909f87d5"
      },
      "outputs": [
        {
          "output_type": "execute_result",
          "data": {
            "text/plain": [
              "{' ': 0,\n",
              " '.': 1,\n",
              " '/': 2,\n",
              " '0': 3,\n",
              " '1': 4,\n",
              " '2': 5,\n",
              " '3': 6,\n",
              " '4': 7,\n",
              " '5': 8,\n",
              " '6': 9,\n",
              " '7': 10,\n",
              " '8': 11,\n",
              " '9': 12,\n",
              " '<pad>': 36,\n",
              " '<unk>': 35,\n",
              " 'a': 13,\n",
              " 'b': 14,\n",
              " 'c': 15,\n",
              " 'd': 16,\n",
              " 'e': 17,\n",
              " 'f': 18,\n",
              " 'g': 19,\n",
              " 'h': 20,\n",
              " 'i': 21,\n",
              " 'j': 22,\n",
              " 'l': 23,\n",
              " 'm': 24,\n",
              " 'n': 25,\n",
              " 'o': 26,\n",
              " 'p': 27,\n",
              " 'r': 28,\n",
              " 's': 29,\n",
              " 't': 30,\n",
              " 'u': 31,\n",
              " 'v': 32,\n",
              " 'w': 33,\n",
              " 'y': 34}"
            ]
          },
          "metadata": {},
          "execution_count": 18
        }
      ],
      "source": [
        "human_vocab"
      ]
    },
    {
      "cell_type": "code",
      "execution_count": 19,
      "id": "d6a098fc",
      "metadata": {
        "colab": {
          "base_uri": "https://localhost:8080/"
        },
        "id": "d6a098fc",
        "outputId": "462558ae-e3ce-4b4c-bdf6-09e69772febc"
      },
      "outputs": [
        {
          "output_type": "execute_result",
          "data": {
            "text/plain": [
              "{'-': 0,\n",
              " '0': 1,\n",
              " '1': 2,\n",
              " '2': 3,\n",
              " '3': 4,\n",
              " '4': 5,\n",
              " '5': 6,\n",
              " '6': 7,\n",
              " '7': 8,\n",
              " '8': 9,\n",
              " '9': 10}"
            ]
          },
          "metadata": {},
          "execution_count": 19
        }
      ],
      "source": [
        "machine_vocab"
      ]
    },
    {
      "cell_type": "code",
      "execution_count": 20,
      "id": "c12bef4e",
      "metadata": {
        "colab": {
          "base_uri": "https://localhost:8080/"
        },
        "id": "c12bef4e",
        "outputId": "dff8fa62-9878-41d4-97c0-542f1d8b1147"
      },
      "outputs": [
        {
          "output_type": "stream",
          "name": "stdout",
          "text": [
            "X shape (10000, 30)\n",
            "Y shape (10000, 10)\n",
            "Xoh shape (10000, 30, 37)\n",
            "Yoh shape (10000, 10, 11)\n"
          ]
        }
      ],
      "source": [
        "Tx=30\n",
        "Ty=10\n",
        "X, Y, Xoh, Yoh = preprocess_data(dataset, human_vocab, machine_vocab, Tx, Ty)\n",
        "\n",
        "print('X shape', X.shape)\n",
        "print('Y shape', Y.shape)\n",
        "print('Xoh shape', Xoh.shape)\n",
        "print('Yoh shape', Yoh.shape)"
      ]
    },
    {
      "cell_type": "code",
      "execution_count": 21,
      "id": "33875445",
      "metadata": {
        "colab": {
          "base_uri": "https://localhost:8080/"
        },
        "id": "33875445",
        "outputId": "d7b1719c-234d-49a8-fe44-8b4c91f37e5c"
      },
      "outputs": [
        {
          "output_type": "stream",
          "name": "stdout",
          "text": [
            "Source date: 9 may 1998\n",
            "Target date: 1998-05-09\n",
            "\n",
            "Source after preprocessing [12  0 24 13 34  0  4 12 12 11 36 36 36 36 36 36 36 36 36 36 36 36 36 36\n",
            " 36 36 36 36 36 36]\n",
            "Target after preprocessing [ 2 10 10  9  0  1  6  0  1 10]\n",
            "\n",
            "Source after preprocessing one-hot [[0. 0. 0. ... 0. 0. 0.]\n",
            " [1. 0. 0. ... 0. 0. 0.]\n",
            " [0. 0. 0. ... 0. 0. 0.]\n",
            " ...\n",
            " [0. 0. 0. ... 0. 0. 1.]\n",
            " [0. 0. 0. ... 0. 0. 1.]\n",
            " [0. 0. 0. ... 0. 0. 1.]]\n",
            "Target after preprocessing one-hot [[0. 0. 1. 0. 0. 0. 0. 0. 0. 0. 0.]\n",
            " [0. 0. 0. 0. 0. 0. 0. 0. 0. 0. 1.]\n",
            " [0. 0. 0. 0. 0. 0. 0. 0. 0. 0. 1.]\n",
            " [0. 0. 0. 0. 0. 0. 0. 0. 0. 1. 0.]\n",
            " [1. 0. 0. 0. 0. 0. 0. 0. 0. 0. 0.]\n",
            " [0. 1. 0. 0. 0. 0. 0. 0. 0. 0. 0.]\n",
            " [0. 0. 0. 0. 0. 0. 1. 0. 0. 0. 0.]\n",
            " [1. 0. 0. 0. 0. 0. 0. 0. 0. 0. 0.]\n",
            " [0. 1. 0. 0. 0. 0. 0. 0. 0. 0. 0.]\n",
            " [0. 0. 0. 0. 0. 0. 0. 0. 0. 0. 1.]]\n"
          ]
        }
      ],
      "source": [
        "index=0\n",
        "print('Source date:', dataset[index][0])\n",
        "print('Target date:', dataset[index][1])\n",
        "\n",
        "print()\n",
        "print('Source after preprocessing', X[index])\n",
        "print('Target after preprocessing', Y[index])\n",
        "\n",
        "print()\n",
        "print('Source after preprocessing one-hot', Xoh[index])\n",
        "print('Target after preprocessing one-hot', Yoh[index])"
      ]
    },
    {
      "cell_type": "code",
      "execution_count": 22,
      "id": "12d6a059",
      "metadata": {
        "id": "12d6a059"
      },
      "outputs": [],
      "source": [
        "repeator=RepeatVector(Tx)\n",
        "concatenator=Concatenate(axis=-1)\n",
        "densor1=Dense(10,activation='tanh')\n",
        "densor2=Dense(1, activation='relu')\n",
        "activator=Activation(softmax,name='attention_weights')\n",
        "dotor=Dot(axes=1)"
      ]
    },
    {
      "cell_type": "code",
      "execution_count": 23,
      "id": "a6f09cea",
      "metadata": {
        "id": "a6f09cea"
      },
      "outputs": [],
      "source": [
        "def one_step_attention(a, s_prev):\n",
        "    \n",
        "    s_prev=repeator(s_prev)\n",
        "    concat=concatenator([a,s_prev])\n",
        "    e=densor1(concat)\n",
        "    energies=densor2(e)\n",
        "    alphas=activator(energies)\n",
        "    context=dotor([alphas,a])\n",
        "    \n",
        "    return context"
      ]
    },
    {
      "cell_type": "code",
      "execution_count": 24,
      "id": "25375ba4",
      "metadata": {
        "id": "25375ba4"
      },
      "outputs": [],
      "source": [
        "n_a=32\n",
        "n_s=64\n",
        "\n",
        "post_activation_LSTM_cell = LSTM(n_s, return_state=True)\n",
        "output_layer = Dense(len(machine_vocab), activation=softmax)"
      ]
    },
    {
      "cell_type": "code",
      "execution_count": 25,
      "id": "c57d03c2",
      "metadata": {
        "id": "c57d03c2"
      },
      "outputs": [],
      "source": [
        "def modelf(Tx, Ty, n_a, n_s, human_vocab_size, machine_vocab_size):\n",
        "    X=Input(shape=(Tx, human_vocab_size))\n",
        "    s0=Input(shape=(n_s,), name='s0')\n",
        "    c0=Input(shape=(n_s,), name='c0')\n",
        "    s=s0\n",
        "    c=c0\n",
        "    \n",
        "    outputs=[]\n",
        "    \n",
        "    a=Bidirectional(LSTM(n_a,return_sequences=True))(X)\n",
        "    \n",
        "    for t in range(Ty):\n",
        "        context=one_step_attention(a,s)\n",
        "        \n",
        "        s,_,c=post_activation_LSTM_cell(context,initial_state=[s,c])\n",
        "        out=output_layer(s)\n",
        "        outputs.append(out)\n",
        "        \n",
        "    model = Model(inputs=[X,s0,c0],outputs=outputs)\n",
        "    \n",
        "    return model"
      ]
    },
    {
      "cell_type": "code",
      "execution_count": 26,
      "id": "d1e45225",
      "metadata": {
        "id": "d1e45225"
      },
      "outputs": [],
      "source": [
        "model=modelf(Tx, Ty, n_a, n_s, len(human_vocab), len(machine_vocab))"
      ]
    },
    {
      "cell_type": "code",
      "execution_count": 27,
      "id": "6a7bc53d",
      "metadata": {
        "colab": {
          "base_uri": "https://localhost:8080/"
        },
        "id": "6a7bc53d",
        "outputId": "62391c7d-0bcd-4d59-bd68-dd22767cca4f"
      },
      "outputs": [
        {
          "output_type": "stream",
          "name": "stdout",
          "text": [
            "Model: \"model\"\n",
            "__________________________________________________________________________________________________\n",
            " Layer (type)                   Output Shape         Param #     Connected to                     \n",
            "==================================================================================================\n",
            " input_1 (InputLayer)           [(None, 30, 37)]     0           []                               \n",
            "                                                                                                  \n",
            " s0 (InputLayer)                [(None, 64)]         0           []                               \n",
            "                                                                                                  \n",
            " bidirectional (Bidirectional)  (None, 30, 64)       17920       ['input_1[0][0]']                \n",
            "                                                                                                  \n",
            " repeat_vector (RepeatVector)   (None, 30, 64)       0           ['s0[0][0]',                     \n",
            "                                                                  'lstm[0][0]',                   \n",
            "                                                                  'lstm[1][0]',                   \n",
            "                                                                  'lstm[2][0]',                   \n",
            "                                                                  'lstm[3][0]',                   \n",
            "                                                                  'lstm[4][0]',                   \n",
            "                                                                  'lstm[5][0]',                   \n",
            "                                                                  'lstm[6][0]',                   \n",
            "                                                                  'lstm[7][0]',                   \n",
            "                                                                  'lstm[8][0]']                   \n",
            "                                                                                                  \n",
            " concatenate (Concatenate)      (None, 30, 128)      0           ['bidirectional[0][0]',          \n",
            "                                                                  'repeat_vector[0][0]',          \n",
            "                                                                  'bidirectional[0][0]',          \n",
            "                                                                  'repeat_vector[1][0]',          \n",
            "                                                                  'bidirectional[0][0]',          \n",
            "                                                                  'repeat_vector[2][0]',          \n",
            "                                                                  'bidirectional[0][0]',          \n",
            "                                                                  'repeat_vector[3][0]',          \n",
            "                                                                  'bidirectional[0][0]',          \n",
            "                                                                  'repeat_vector[4][0]',          \n",
            "                                                                  'bidirectional[0][0]',          \n",
            "                                                                  'repeat_vector[5][0]',          \n",
            "                                                                  'bidirectional[0][0]',          \n",
            "                                                                  'repeat_vector[6][0]',          \n",
            "                                                                  'bidirectional[0][0]',          \n",
            "                                                                  'repeat_vector[7][0]',          \n",
            "                                                                  'bidirectional[0][0]',          \n",
            "                                                                  'repeat_vector[8][0]',          \n",
            "                                                                  'bidirectional[0][0]',          \n",
            "                                                                  'repeat_vector[9][0]']          \n",
            "                                                                                                  \n",
            " dense (Dense)                  (None, 30, 10)       1290        ['concatenate[0][0]',            \n",
            "                                                                  'concatenate[1][0]',            \n",
            "                                                                  'concatenate[2][0]',            \n",
            "                                                                  'concatenate[3][0]',            \n",
            "                                                                  'concatenate[4][0]',            \n",
            "                                                                  'concatenate[5][0]',            \n",
            "                                                                  'concatenate[6][0]',            \n",
            "                                                                  'concatenate[7][0]',            \n",
            "                                                                  'concatenate[8][0]',            \n",
            "                                                                  'concatenate[9][0]']            \n",
            "                                                                                                  \n",
            " dense_1 (Dense)                (None, 30, 1)        11          ['dense[0][0]',                  \n",
            "                                                                  'dense[1][0]',                  \n",
            "                                                                  'dense[2][0]',                  \n",
            "                                                                  'dense[3][0]',                  \n",
            "                                                                  'dense[4][0]',                  \n",
            "                                                                  'dense[5][0]',                  \n",
            "                                                                  'dense[6][0]',                  \n",
            "                                                                  'dense[7][0]',                  \n",
            "                                                                  'dense[8][0]',                  \n",
            "                                                                  'dense[9][0]']                  \n",
            "                                                                                                  \n",
            " attention_weights (Activation)  (None, 30, 1)       0           ['dense_1[0][0]',                \n",
            "                                                                  'dense_1[1][0]',                \n",
            "                                                                  'dense_1[2][0]',                \n",
            "                                                                  'dense_1[3][0]',                \n",
            "                                                                  'dense_1[4][0]',                \n",
            "                                                                  'dense_1[5][0]',                \n",
            "                                                                  'dense_1[6][0]',                \n",
            "                                                                  'dense_1[7][0]',                \n",
            "                                                                  'dense_1[8][0]',                \n",
            "                                                                  'dense_1[9][0]']                \n",
            "                                                                                                  \n",
            " dot (Dot)                      (None, 1, 64)        0           ['attention_weights[0][0]',      \n",
            "                                                                  'bidirectional[0][0]',          \n",
            "                                                                  'attention_weights[1][0]',      \n",
            "                                                                  'bidirectional[0][0]',          \n",
            "                                                                  'attention_weights[2][0]',      \n",
            "                                                                  'bidirectional[0][0]',          \n",
            "                                                                  'attention_weights[3][0]',      \n",
            "                                                                  'bidirectional[0][0]',          \n",
            "                                                                  'attention_weights[4][0]',      \n",
            "                                                                  'bidirectional[0][0]',          \n",
            "                                                                  'attention_weights[5][0]',      \n",
            "                                                                  'bidirectional[0][0]',          \n",
            "                                                                  'attention_weights[6][0]',      \n",
            "                                                                  'bidirectional[0][0]',          \n",
            "                                                                  'attention_weights[7][0]',      \n",
            "                                                                  'bidirectional[0][0]',          \n",
            "                                                                  'attention_weights[8][0]',      \n",
            "                                                                  'bidirectional[0][0]',          \n",
            "                                                                  'attention_weights[9][0]',      \n",
            "                                                                  'bidirectional[0][0]']          \n",
            "                                                                                                  \n",
            " c0 (InputLayer)                [(None, 64)]         0           []                               \n",
            "                                                                                                  \n",
            " lstm (LSTM)                    [(None, 64),         33024       ['dot[0][0]',                    \n",
            "                                 (None, 64),                      's0[0][0]',                     \n",
            "                                 (None, 64)]                      'c0[0][0]',                     \n",
            "                                                                  'dot[1][0]',                    \n",
            "                                                                  'lstm[0][0]',                   \n",
            "                                                                  'lstm[0][2]',                   \n",
            "                                                                  'dot[2][0]',                    \n",
            "                                                                  'lstm[1][0]',                   \n",
            "                                                                  'lstm[1][2]',                   \n",
            "                                                                  'dot[3][0]',                    \n",
            "                                                                  'lstm[2][0]',                   \n",
            "                                                                  'lstm[2][2]',                   \n",
            "                                                                  'dot[4][0]',                    \n",
            "                                                                  'lstm[3][0]',                   \n",
            "                                                                  'lstm[3][2]',                   \n",
            "                                                                  'dot[5][0]',                    \n",
            "                                                                  'lstm[4][0]',                   \n",
            "                                                                  'lstm[4][2]',                   \n",
            "                                                                  'dot[6][0]',                    \n",
            "                                                                  'lstm[5][0]',                   \n",
            "                                                                  'lstm[5][2]',                   \n",
            "                                                                  'dot[7][0]',                    \n",
            "                                                                  'lstm[6][0]',                   \n",
            "                                                                  'lstm[6][2]',                   \n",
            "                                                                  'dot[8][0]',                    \n",
            "                                                                  'lstm[7][0]',                   \n",
            "                                                                  'lstm[7][2]',                   \n",
            "                                                                  'dot[9][0]',                    \n",
            "                                                                  'lstm[8][0]',                   \n",
            "                                                                  'lstm[8][2]']                   \n",
            "                                                                                                  \n",
            " dense_2 (Dense)                (None, 11)           715         ['lstm[0][0]',                   \n",
            "                                                                  'lstm[1][0]',                   \n",
            "                                                                  'lstm[2][0]',                   \n",
            "                                                                  'lstm[3][0]',                   \n",
            "                                                                  'lstm[4][0]',                   \n",
            "                                                                  'lstm[5][0]',                   \n",
            "                                                                  'lstm[6][0]',                   \n",
            "                                                                  'lstm[7][0]',                   \n",
            "                                                                  'lstm[8][0]',                   \n",
            "                                                                  'lstm[9][0]']                   \n",
            "                                                                                                  \n",
            "==================================================================================================\n",
            "Total params: 52,960\n",
            "Trainable params: 52,960\n",
            "Non-trainable params: 0\n",
            "__________________________________________________________________________________________________\n"
          ]
        }
      ],
      "source": [
        "model.summary()"
      ]
    },
    {
      "cell_type": "code",
      "source": [
        "opt = Adam(learning_rate=0.005, beta_1=0.9, beta_2=0.999,decay=0.01)\n",
        "model.compile(optimizer=opt, loss='categorical_crossentropy', metrics=['accuracy'])"
      ],
      "metadata": {
        "id": "HfpVGbun_u2H"
      },
      "id": "HfpVGbun_u2H",
      "execution_count": 28,
      "outputs": []
    },
    {
      "cell_type": "code",
      "source": [
        "s0=np.zeros((m,n_s))\n",
        "c0=np.zeros((m,n_s))\n",
        "outputs=list(Yoh.swapaxes(0,1))"
      ],
      "metadata": {
        "id": "LeWpoo_hAhy1"
      },
      "id": "LeWpoo_hAhy1",
      "execution_count": 29,
      "outputs": []
    },
    {
      "cell_type": "code",
      "source": [
        "model.fit([Xoh,s0,c0], outputs, epochs=5, batch_size=100)"
      ],
      "metadata": {
        "colab": {
          "base_uri": "https://localhost:8080/"
        },
        "id": "LB0pDNP5CCRz",
        "outputId": "ee213e68-f9ac-4610-e92a-daf2c64f73fe"
      },
      "id": "LB0pDNP5CCRz",
      "execution_count": 30,
      "outputs": [
        {
          "output_type": "stream",
          "name": "stdout",
          "text": [
            "Epoch 1/5\n",
            "100/100 [==============================] - 23s 31ms/step - loss: 17.4551 - dense_2_loss: 1.2606 - dense_2_1_loss: 1.2260 - dense_2_2_loss: 1.9759 - dense_2_3_loss: 2.7099 - dense_2_4_loss: 0.8432 - dense_2_5_loss: 1.3488 - dense_2_6_loss: 2.6487 - dense_2_7_loss: 1.0748 - dense_2_8_loss: 1.7302 - dense_2_9_loss: 2.6371 - dense_2_accuracy: 0.4284 - dense_2_1_accuracy: 0.5337 - dense_2_2_accuracy: 0.2496 - dense_2_3_accuracy: 0.0722 - dense_2_4_accuracy: 0.9601 - dense_2_5_accuracy: 0.2779 - dense_2_6_accuracy: 0.0476 - dense_2_7_accuracy: 0.8556 - dense_2_8_accuracy: 0.2468 - dense_2_9_accuracy: 0.1089\n",
            "Epoch 2/5\n",
            "100/100 [==============================] - 3s 31ms/step - loss: 9.4930 - dense_2_loss: 0.4183 - dense_2_1_loss: 0.2911 - dense_2_2_loss: 1.1960 - dense_2_3_loss: 2.1720 - dense_2_4_loss: 0.0252 - dense_2_5_loss: 0.3056 - dense_2_6_loss: 1.8019 - dense_2_7_loss: 0.0275 - dense_2_8_loss: 1.1359 - dense_2_9_loss: 2.1194 - dense_2_accuracy: 0.8674 - dense_2_1_accuracy: 0.9313 - dense_2_2_accuracy: 0.5140 - dense_2_3_accuracy: 0.2149 - dense_2_4_accuracy: 1.0000 - dense_2_5_accuracy: 0.9080 - dense_2_6_accuracy: 0.3652 - dense_2_7_accuracy: 0.9999 - dense_2_8_accuracy: 0.5040 - dense_2_9_accuracy: 0.2238\n",
            "Epoch 3/5\n",
            "100/100 [==============================] - 3s 31ms/step - loss: 7.5213 - dense_2_loss: 0.1603 - dense_2_1_loss: 0.1218 - dense_2_2_loss: 0.8414 - dense_2_3_loss: 1.8803 - dense_2_4_loss: 0.0146 - dense_2_5_loss: 0.1720 - dense_2_6_loss: 1.4624 - dense_2_7_loss: 0.0183 - dense_2_8_loss: 0.9567 - dense_2_9_loss: 1.8934 - dense_2_accuracy: 0.9633 - dense_2_1_accuracy: 0.9677 - dense_2_2_accuracy: 0.6884 - dense_2_3_accuracy: 0.3167 - dense_2_4_accuracy: 1.0000 - dense_2_5_accuracy: 0.9535 - dense_2_6_accuracy: 0.5009 - dense_2_7_accuracy: 0.9995 - dense_2_8_accuracy: 0.5781 - dense_2_9_accuracy: 0.3092\n",
            "Epoch 4/5\n",
            "100/100 [==============================] - 3s 34ms/step - loss: 6.2312 - dense_2_loss: 0.1087 - dense_2_1_loss: 0.0843 - dense_2_2_loss: 0.6335 - dense_2_3_loss: 1.5126 - dense_2_4_loss: 0.0121 - dense_2_5_loss: 0.1318 - dense_2_6_loss: 1.2891 - dense_2_7_loss: 0.0164 - dense_2_8_loss: 0.8128 - dense_2_9_loss: 1.6300 - dense_2_accuracy: 0.9766 - dense_2_1_accuracy: 0.9772 - dense_2_2_accuracy: 0.7760 - dense_2_3_accuracy: 0.4605 - dense_2_4_accuracy: 1.0000 - dense_2_5_accuracy: 0.9653 - dense_2_6_accuracy: 0.5439 - dense_2_7_accuracy: 0.9993 - dense_2_8_accuracy: 0.6529 - dense_2_9_accuracy: 0.4070\n",
            "Epoch 5/5\n",
            "100/100 [==============================] - 3s 32ms/step - loss: 5.0624 - dense_2_loss: 0.0815 - dense_2_1_loss: 0.0629 - dense_2_2_loss: 0.5070 - dense_2_3_loss: 1.1656 - dense_2_4_loss: 0.0104 - dense_2_5_loss: 0.1107 - dense_2_6_loss: 1.1222 - dense_2_7_loss: 0.0149 - dense_2_8_loss: 0.6846 - dense_2_9_loss: 1.3025 - dense_2_accuracy: 0.9810 - dense_2_1_accuracy: 0.9820 - dense_2_2_accuracy: 0.8120 - dense_2_3_accuracy: 0.6073 - dense_2_4_accuracy: 1.0000 - dense_2_5_accuracy: 0.9742 - dense_2_6_accuracy: 0.6030 - dense_2_7_accuracy: 0.9994 - dense_2_8_accuracy: 0.7332 - dense_2_9_accuracy: 0.5301\n"
          ]
        },
        {
          "output_type": "execute_result",
          "data": {
            "text/plain": [
              "<keras.callbacks.History at 0x7f013c09ee90>"
            ]
          },
          "metadata": {},
          "execution_count": 30
        }
      ]
    },
    {
      "cell_type": "code",
      "source": [
        "EXAMPLES = ['3 May 1979', '5 April 09', '21th of August 2016', 'Tue 10 Jul 2007', 'Saturday May 9 2018', 'March 3 2001', 'March 3rd 2001', '1 March 2001']\n",
        "s00=np.zeros((1,n_s))\n",
        "c00=np.zeros((1, n_s))\n",
        "\n",
        "for example in EXAMPLES:\n",
        "  source=string_to_int(example, Tx, human_vocab)\n",
        "  source = np.array(list(map(lambda x: to_categorical(x, num_classes=len(human_vocab)), source))).swapaxes(0,1)\n",
        "  source=np.swapaxes(source,0,1)\n",
        "  source=np.expand_dims(source,axis=0)\n",
        "  prediction=model.predict([source,s00,c00])\n",
        "  prediction=np.argmax(prediction, axis=-1)\n",
        "  output=[inv_machine_vocab[int(i)] for i in prediction]\n",
        "  print(\"source \",example)\n",
        "  print('target ',''.join(output))\n",
        "\n"
      ],
      "metadata": {
        "colab": {
          "base_uri": "https://localhost:8080/"
        },
        "id": "rPxJJ2pGC0hY",
        "outputId": "f2f82ae3-6d10-4a5d-c9a0-2cf4e39e334e"
      },
      "id": "rPxJJ2pGC0hY",
      "execution_count": 31,
      "outputs": [
        {
          "output_type": "stream",
          "name": "stdout",
          "text": [
            "source  3 May 1979\n",
            "target  1997-05-03\n",
            "source  5 April 09\n",
            "target  2094-04-04\n",
            "source  21th of August 2016\n",
            "target  2016-08-22\n",
            "source  Tue 10 Jul 2007\n",
            "target  2007-07-10\n",
            "source  Saturday May 9 2018\n",
            "target  2018-05-09\n",
            "source  March 3 2001\n",
            "target  2000-03-33\n",
            "source  March 3rd 2001\n",
            "target  2001-03-33\n",
            "source  1 March 2001\n",
            "target  2000-03-10\n"
          ]
        }
      ]
    },
    {
      "cell_type": "code",
      "source": [
        ""
      ],
      "metadata": {
        "id": "JwyCTgrYEsjZ"
      },
      "id": "JwyCTgrYEsjZ",
      "execution_count": null,
      "outputs": []
    }
  ],
  "metadata": {
    "kernelspec": {
      "display_name": "Python 3 (ipykernel)",
      "language": "python",
      "name": "python3"
    },
    "language_info": {
      "codemirror_mode": {
        "name": "ipython",
        "version": 3
      },
      "file_extension": ".py",
      "mimetype": "text/x-python",
      "name": "python",
      "nbconvert_exporter": "python",
      "pygments_lexer": "ipython3",
      "version": "3.7.11"
    },
    "colab": {
      "name": "attention seq2seq.ipynb",
      "provenance": [],
      "collapsed_sections": []
    },
    "accelerator": "GPU"
  },
  "nbformat": 4,
  "nbformat_minor": 5
}